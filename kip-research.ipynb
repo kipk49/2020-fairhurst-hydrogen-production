{
 "cells": [
  {
   "cell_type": "markdown",
   "metadata": {},
   "source": [
    "https://ieeexplore.ieee.org/abstract/document/5898382\n",
    "\n",
    "Table 1 contains many electrolyzer offerings and their specs."
   ]
  },
  {
   "cell_type": "markdown",
   "metadata": {},
   "source": [
    "https://www.energy.gov/sites/prod/files/2014/08/f18/fcto_2014_electrolytic_h2_wkshp_obrien1.pdf\n",
    "\n",
    "Slide 8 contains some relevant info found by INL, it's not in the desired units but it could be useful.\n",
    "\n",
    "https://www.sciencedaily.com/releases/2008/09/080918170624.htm\n",
    "\n",
    "Appears to be a brief news article on that the same INL experiment series; expected to use 15kW for 500g/h of H2 production. Operates at 800C.\n",
    "\n",
    "https://inldigitallibrary.inl.gov/sites/sti/sti/4480292.pdf\n",
    "\n",
    "Full report of the INL hydrogen production experiments. Peak production rate of their large-scale demonstrator was at 5.7 Nm^3/h at 18kW. Operating at 800C.\n",
    "\n",
    "In section 4 they model a system using a 600MWth helium cooled reactor coupled to a hydrogen generating facility. They guessed that 2.3kg/s or higher production rate could be achieved using a dedicated 600MWth reactor.\n",
    "\n",
    "Gas inlet temperatures (from the reactor) were varied from 600C to 900C to simulate different reactor types that would provide different inlet heat temperatures; the only major change was in efficiency.\n",
    "\n",
    "The authors note that HTE is not ready for commercialization due to problems like rapid electrode degradation."
   ]
  },
  {
   "cell_type": "markdown",
   "metadata": {},
   "source": []
  }
 ],
 "metadata": {
  "kernelspec": {
   "display_name": "Python 3",
   "language": "python",
   "name": "python3"
  },
  "language_info": {
   "codemirror_mode": {
    "name": "ipython",
    "version": 3
   },
   "file_extension": ".py",
   "mimetype": "text/x-python",
   "name": "python",
   "nbconvert_exporter": "python",
   "pygments_lexer": "ipython3",
   "version": "3.6.7"
  }
 },
 "nbformat": 4,
 "nbformat_minor": 2
}
